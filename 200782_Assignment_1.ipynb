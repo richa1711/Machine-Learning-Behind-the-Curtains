{
  "cells": [
    {
      "cell_type": "code",
      "execution_count": null,
      "id": "42f5e68e",
      "metadata": {
        "id": "42f5e68e"
      },
      "outputs": [],
      "source": [
        "import numpy as np"
      ]
    },
    {
      "cell_type": "markdown",
      "id": "2b209b50",
      "metadata": {
        "id": "2b209b50"
      },
      "source": [
        "Q1 Let x = np.arange(4, dtype=np.int64). Create an array of ones with the same shape and type as X."
      ]
    },
    {
      "cell_type": "code",
      "execution_count": null,
      "id": "729dc9cd",
      "metadata": {
        "id": "729dc9cd",
        "colab": {
          "base_uri": "https://localhost:8080/"
        },
        "outputId": "ca985dfb-f52a-41ac-ad31-a40747395a63"
      },
      "outputs": [
        {
          "output_type": "stream",
          "name": "stdout",
          "text": [
            "[1 1 1 1]\n"
          ]
        }
      ],
      "source": [
        "X = np.ones(4, dtype=np.int64)\n",
        "print(X)"
      ]
    },
    {
      "cell_type": "markdown",
      "id": "1b9ea803",
      "metadata": {
        "id": "1b9ea803"
      },
      "source": [
        "Q2 Let X = np.array([[1, 2], [3, 4]]). Convert it into a matrix."
      ]
    },
    {
      "cell_type": "code",
      "execution_count": null,
      "id": "23e39b64",
      "metadata": {
        "id": "23e39b64",
        "colab": {
          "base_uri": "https://localhost:8080/"
        },
        "outputId": "543a578c-a2fd-4c14-a92f-540068d787d1"
      },
      "outputs": [
        {
          "output_type": "stream",
          "name": "stdout",
          "text": [
            "[[1 2]\n",
            " [3 4]]\n"
          ]
        }
      ],
      "source": [
        "X = np.asmatrix([[1, 2], [3, 4]])\n",
        "print(X)"
      ]
    },
    {
      "cell_type": "markdown",
      "id": "4c1fc004",
      "metadata": {
        "id": "4c1fc004"
      },
      "source": [
        "Q3 Create a 1-D array of 50 evenly spaced elements between 3. and 10., inclusive."
      ]
    },
    {
      "cell_type": "code",
      "execution_count": null,
      "id": "9f0a47db",
      "metadata": {
        "id": "9f0a47db",
        "colab": {
          "base_uri": "https://localhost:8080/"
        },
        "outputId": "bf10d06e-6dd5-4360-8da5-25987cbe1c18"
      },
      "outputs": [
        {
          "output_type": "stream",
          "name": "stdout",
          "text": [
            "[ 3.          3.14285714  3.28571429  3.42857143  3.57142857  3.71428571\n",
            "  3.85714286  4.          4.14285714  4.28571429  4.42857143  4.57142857\n",
            "  4.71428571  4.85714286  5.          5.14285714  5.28571429  5.42857143\n",
            "  5.57142857  5.71428571  5.85714286  6.          6.14285714  6.28571429\n",
            "  6.42857143  6.57142857  6.71428571  6.85714286  7.          7.14285714\n",
            "  7.28571429  7.42857143  7.57142857  7.71428571  7.85714286  8.\n",
            "  8.14285714  8.28571429  8.42857143  8.57142857  8.71428571  8.85714286\n",
            "  9.          9.14285714  9.28571429  9.42857143  9.57142857  9.71428571\n",
            "  9.85714286 10.        ]\n"
          ]
        }
      ],
      "source": [
        "X = np.linspace(3,10,50)\n",
        "print(X)"
      ]
    },
    {
      "cell_type": "markdown",
      "id": "0289d659",
      "metadata": {
        "id": "0289d659"
      },
      "source": [
        "Q4 Let x be array [[1, 2, 3], [4, 5, 6]]. Convert it to [1 4 2 5 3 6]."
      ]
    },
    {
      "cell_type": "code",
      "execution_count": null,
      "id": "f8435bca",
      "metadata": {
        "id": "f8435bca",
        "colab": {
          "base_uri": "https://localhost:8080/"
        },
        "outputId": "8f33669f-2b07-49d0-8339-11afda7b55b6"
      },
      "outputs": [
        {
          "output_type": "stream",
          "name": "stdout",
          "text": [
            "[1 4 2 5 3 6]\n"
          ]
        }
      ],
      "source": [
        "x = np.array([[1,2,3],[4,5,6]])\n",
        "X = []\n",
        "for j in range(3):\n",
        "  for i in range(2):\n",
        "    X.append(x[i,j])\n",
        "x= np.array(X)\n",
        "print(x)"
      ]
    },
    {
      "cell_type": "markdown",
      "id": "71988acd",
      "metadata": {
        "id": "71988acd"
      },
      "source": [
        "Q5 Let x be an array [1, 2, 3, ..., 9]. Split x into 3 arrays, each of which has 4, 2, and 3 elements in the original order."
      ]
    },
    {
      "cell_type": "code",
      "execution_count": null,
      "id": "9425a232",
      "metadata": {
        "id": "9425a232",
        "colab": {
          "base_uri": "https://localhost:8080/"
        },
        "outputId": "56f35e93-e3e3-48cc-8d52-c4252b705a66"
      },
      "outputs": [
        {
          "output_type": "stream",
          "name": "stdout",
          "text": [
            "[array([1, 2, 3]), array([4, 5]), array([6, 7]), array([8, 9])]\n",
            "[array([1, 2, 3, 4, 5]), array([6, 7, 8, 9])]\n",
            "[array([1, 2, 3]), array([4, 5, 6]), array([7, 8, 9])]\n"
          ]
        }
      ],
      "source": [
        "x= np.array([1,2,3,4,5,6,7,8,9])\n",
        "x_1 = np.array_split(x,4)\n",
        "x_2 = np.array_split(x,2)\n",
        "x_3 = np.array_split(x,3)    \n",
        "\n",
        "\n",
        "print(x_1)\n",
        "print(x_2)\n",
        "print(x_3) "
      ]
    },
    {
      "cell_type": "markdown",
      "id": "6aecae8c",
      "metadata": {
        "id": "6aecae8c"
      },
      "source": [
        " Q6 Compute the inverse and primary diagnol sum of x=[[1,2],[3,4]]"
      ]
    },
    {
      "cell_type": "code",
      "execution_count": null,
      "id": "3d79a142",
      "metadata": {
        "id": "3d79a142",
        "colab": {
          "base_uri": "https://localhost:8080/"
        },
        "outputId": "fe0cef63-a884-4511-ce3f-7516087d4f4e"
      },
      "outputs": [
        {
          "output_type": "stream",
          "name": "stdout",
          "text": [
            "[[-2.   1. ]\n",
            " [ 1.5 -0.5]]\n",
            "5\n"
          ]
        }
      ],
      "source": [
        "x=np.array([[1,2],[3,4]])\n",
        "diagonal_sum=np.trace(x)\n",
        "inverse=np.linalg.inv(x)\n",
        "print(inverse)\n",
        "print(np.trace(x))\n"
      ]
    },
    {
      "cell_type": "markdown",
      "id": "9f088694",
      "metadata": {
        "id": "9f088694"
      },
      "source": [
        "Q7 Sort x along the second axis. x = [[1,4],[3,1]]"
      ]
    },
    {
      "cell_type": "code",
      "execution_count": null,
      "id": "40099735",
      "metadata": {
        "id": "40099735",
        "colab": {
          "base_uri": "https://localhost:8080/"
        },
        "outputId": "d7201dac-c7d0-469e-ec57-5cafb86fcf55"
      },
      "outputs": [
        {
          "output_type": "stream",
          "name": "stdout",
          "text": [
            "[[1 4]\n",
            " [1 3]]\n"
          ]
        }
      ],
      "source": [
        "x = np.array([[1,4],[3,1]])\n",
        "print(np.sort(x, axis=1))\n"
      ]
    },
    {
      "cell_type": "markdown",
      "id": "51cc1a71",
      "metadata": {
        "id": "51cc1a71"
      },
      "source": [
        "Q8 Get the indices that would sort x(as above) along the second axis."
      ]
    },
    {
      "cell_type": "code",
      "execution_count": null,
      "id": "f314f2b6",
      "metadata": {
        "id": "f314f2b6",
        "colab": {
          "base_uri": "https://localhost:8080/"
        },
        "outputId": "3bda2bb8-6a3b-4354-f7e5-6af53bed7ac4"
      },
      "outputs": [
        {
          "output_type": "stream",
          "name": "stdout",
          "text": [
            "[[0 1]\n",
            " [1 0]]\n"
          ]
        }
      ],
      "source": [
        "x = np.array([[1,4],[3,1]])\n",
        "indices=np.argsort(x, axis=1)\n",
        "print(indices)"
      ]
    },
    {
      "cell_type": "markdown",
      "id": "1cf5455c",
      "metadata": {
        "id": "1cf5455c"
      },
      "source": [
        "Initiate x as a 2x5 array with random values from 0 to 10(not inclusive).Get the maximum and minimum values and their indices of x along the second axis."
      ]
    },
    {
      "cell_type": "code",
      "execution_count": null,
      "id": "4c9518c5",
      "metadata": {
        "id": "4c9518c5",
        "colab": {
          "base_uri": "https://localhost:8080/"
        },
        "outputId": "cfbb553b-0fbb-4896-9633-c87b505e1ad8"
      },
      "outputs": [
        {
          "output_type": "stream",
          "name": "stdout",
          "text": [
            "[[ 4  5  1  1  9]\n",
            " [ 8  9 10 10  1]]\n",
            "[ 8  9 10 10  9]\n",
            "[4 5 1 1 1]\n",
            "(array([0, 1, 1, 1, 1]), array([4, 0, 1, 2, 3]))\n",
            "(array([0, 0, 0, 0, 1]), array([0, 1, 2, 3, 4]))\n"
          ]
        }
      ],
      "source": [
        "import random\n",
        "rdm=[]\n",
        "for i in range(10):\n",
        "  x = random.randint(1,10)\n",
        "  rdm.append(x)\n",
        "x=np.array(rdm).reshape(2,5)\n",
        "\n",
        "max_column=np.max(x,0)\n",
        "min_column=np.min(x,0)\n",
        "result_max = np.where(x == max_column)\n",
        "result_min = np.where(x == min_column)\n",
        "print(x)\n",
        "\n",
        "print(max_column)\n",
        "print(min_column)\n",
        "print(result_max)\n",
        "print(result_min)\n",
        "\n",
        "\n",
        "\n"
      ]
    },
    {
      "cell_type": "markdown",
      "id": "d4c46002",
      "metadata": {
        "id": "d4c46002"
      },
      "source": [
        "Run the following load command to get the 2-Dim iris dataset. Do the following operations on it."
      ]
    },
    {
      "cell_type": "code",
      "execution_count": null,
      "id": "6d70b524",
      "metadata": {
        "id": "6d70b524"
      },
      "outputs": [],
      "source": [
        "url = 'https://archive.ics.uci.edu/ml/machine-learning-databases/iris/iris.data'\n",
        "iris_2d = np.genfromtxt(url, delimiter=',', dtype='float', usecols=[0,1,2,3])\n",
        "#print(iris_2d)"
      ]
    },
    {
      "cell_type": "markdown",
      "id": "09bd05b0",
      "metadata": {
        "id": "09bd05b0"
      },
      "source": [
        "Drop rows that contain a missing value. "
      ]
    },
    {
      "cell_type": "code",
      "execution_count": null,
      "id": "ffd754b3",
      "metadata": {
        "id": "ffd754b3",
        "colab": {
          "base_uri": "https://localhost:8080/"
        },
        "outputId": "b23ec8a7-e50b-47f3-8233-41a37df77c2a"
      },
      "outputs": [
        {
          "output_type": "stream",
          "name": "stdout",
          "text": [
            "[[5.1 3.5 1.4 0.2]\n",
            " [4.9 3.  1.4 0.2]\n",
            " [4.7 3.2 1.3 0.2]\n",
            " [4.6 3.1 1.5 0.2]\n",
            " [5.  3.6 1.4 0.2]\n",
            " [5.4 3.9 1.7 0.4]\n",
            " [4.6 3.4 1.4 0.3]\n",
            " [5.  3.4 1.5 0.2]\n",
            " [4.4 2.9 1.4 0.2]\n",
            " [4.9 3.1 1.5 0.1]\n",
            " [5.4 3.7 1.5 0.2]\n",
            " [4.8 3.4 1.6 0.2]\n",
            " [4.8 3.  1.4 0.1]\n",
            " [4.3 3.  1.1 0.1]\n",
            " [5.8 4.  1.2 0.2]\n",
            " [5.7 4.4 1.5 0.4]\n",
            " [5.4 3.9 1.3 0.4]\n",
            " [5.1 3.5 1.4 0.3]\n",
            " [5.7 3.8 1.7 0.3]\n",
            " [5.1 3.8 1.5 0.3]\n",
            " [5.4 3.4 1.7 0.2]\n",
            " [5.1 3.7 1.5 0.4]\n",
            " [4.6 3.6 1.  0.2]\n",
            " [5.1 3.3 1.7 0.5]\n",
            " [4.8 3.4 1.9 0.2]\n",
            " [5.  3.  1.6 0.2]\n",
            " [5.  3.4 1.6 0.4]\n",
            " [5.2 3.5 1.5 0.2]\n",
            " [5.2 3.4 1.4 0.2]\n",
            " [4.7 3.2 1.6 0.2]\n",
            " [4.8 3.1 1.6 0.2]\n",
            " [5.4 3.4 1.5 0.4]\n",
            " [5.2 4.1 1.5 0.1]\n",
            " [5.5 4.2 1.4 0.2]\n",
            " [4.9 3.1 1.5 0.1]\n",
            " [5.  3.2 1.2 0.2]\n",
            " [5.5 3.5 1.3 0.2]\n",
            " [4.9 3.1 1.5 0.1]\n",
            " [4.4 3.  1.3 0.2]\n",
            " [5.1 3.4 1.5 0.2]\n",
            " [5.  3.5 1.3 0.3]\n",
            " [4.5 2.3 1.3 0.3]\n",
            " [4.4 3.2 1.3 0.2]\n",
            " [5.  3.5 1.6 0.6]\n",
            " [5.1 3.8 1.9 0.4]\n",
            " [4.8 3.  1.4 0.3]\n",
            " [5.1 3.8 1.6 0.2]\n",
            " [4.6 3.2 1.4 0.2]\n",
            " [5.3 3.7 1.5 0.2]\n",
            " [5.  3.3 1.4 0.2]\n",
            " [7.  3.2 4.7 1.4]\n",
            " [6.4 3.2 4.5 1.5]\n",
            " [6.9 3.1 4.9 1.5]\n",
            " [5.5 2.3 4.  1.3]\n",
            " [6.5 2.8 4.6 1.5]\n",
            " [5.7 2.8 4.5 1.3]\n",
            " [6.3 3.3 4.7 1.6]\n",
            " [4.9 2.4 3.3 1. ]\n",
            " [6.6 2.9 4.6 1.3]\n",
            " [5.2 2.7 3.9 1.4]\n",
            " [5.  2.  3.5 1. ]\n",
            " [5.9 3.  4.2 1.5]\n",
            " [6.  2.2 4.  1. ]\n",
            " [6.1 2.9 4.7 1.4]\n",
            " [5.6 2.9 3.6 1.3]\n",
            " [6.7 3.1 4.4 1.4]\n",
            " [5.6 3.  4.5 1.5]\n",
            " [5.8 2.7 4.1 1. ]\n",
            " [6.2 2.2 4.5 1.5]\n",
            " [5.6 2.5 3.9 1.1]\n",
            " [5.9 3.2 4.8 1.8]\n",
            " [6.1 2.8 4.  1.3]\n",
            " [6.3 2.5 4.9 1.5]\n",
            " [6.1 2.8 4.7 1.2]\n",
            " [6.4 2.9 4.3 1.3]\n",
            " [6.6 3.  4.4 1.4]\n",
            " [6.8 2.8 4.8 1.4]\n",
            " [6.7 3.  5.  1.7]\n",
            " [6.  2.9 4.5 1.5]\n",
            " [5.7 2.6 3.5 1. ]\n",
            " [5.5 2.4 3.8 1.1]\n",
            " [5.5 2.4 3.7 1. ]\n",
            " [5.8 2.7 3.9 1.2]\n",
            " [6.  2.7 5.1 1.6]\n",
            " [5.4 3.  4.5 1.5]\n",
            " [6.  3.4 4.5 1.6]\n",
            " [6.7 3.1 4.7 1.5]\n",
            " [6.3 2.3 4.4 1.3]\n",
            " [5.6 3.  4.1 1.3]\n",
            " [5.5 2.5 4.  1.3]\n",
            " [5.5 2.6 4.4 1.2]\n",
            " [6.1 3.  4.6 1.4]\n",
            " [5.8 2.6 4.  1.2]\n",
            " [5.  2.3 3.3 1. ]\n",
            " [5.6 2.7 4.2 1.3]\n",
            " [5.7 3.  4.2 1.2]\n",
            " [5.7 2.9 4.2 1.3]\n",
            " [6.2 2.9 4.3 1.3]\n",
            " [5.1 2.5 3.  1.1]\n",
            " [5.7 2.8 4.1 1.3]\n",
            " [6.3 3.3 6.  2.5]\n",
            " [5.8 2.7 5.1 1.9]\n",
            " [7.1 3.  5.9 2.1]\n",
            " [6.3 2.9 5.6 1.8]\n",
            " [6.5 3.  5.8 2.2]\n",
            " [7.6 3.  6.6 2.1]\n",
            " [4.9 2.5 4.5 1.7]\n",
            " [7.3 2.9 6.3 1.8]\n",
            " [6.7 2.5 5.8 1.8]\n",
            " [7.2 3.6 6.1 2.5]\n",
            " [6.5 3.2 5.1 2. ]\n",
            " [6.4 2.7 5.3 1.9]\n",
            " [6.8 3.  5.5 2.1]\n",
            " [5.7 2.5 5.  2. ]\n",
            " [5.8 2.8 5.1 2.4]\n",
            " [6.4 3.2 5.3 2.3]\n",
            " [6.5 3.  5.5 1.8]\n",
            " [7.7 3.8 6.7 2.2]\n",
            " [7.7 2.6 6.9 2.3]\n",
            " [6.  2.2 5.  1.5]\n",
            " [6.9 3.2 5.7 2.3]\n",
            " [5.6 2.8 4.9 2. ]\n",
            " [7.7 2.8 6.7 2. ]\n",
            " [6.3 2.7 4.9 1.8]\n",
            " [6.7 3.3 5.7 2.1]\n",
            " [7.2 3.2 6.  1.8]\n",
            " [6.2 2.8 4.8 1.8]\n",
            " [6.1 3.  4.9 1.8]\n",
            " [6.4 2.8 5.6 2.1]\n",
            " [7.2 3.  5.8 1.6]\n",
            " [7.4 2.8 6.1 1.9]\n",
            " [7.9 3.8 6.4 2. ]\n",
            " [6.4 2.8 5.6 2.2]\n",
            " [6.3 2.8 5.1 1.5]\n",
            " [6.1 2.6 5.6 1.4]\n",
            " [7.7 3.  6.1 2.3]\n",
            " [6.3 3.4 5.6 2.4]\n",
            " [6.4 3.1 5.5 1.8]\n",
            " [6.  3.  4.8 1.8]\n",
            " [6.9 3.1 5.4 2.1]\n",
            " [6.7 3.1 5.6 2.4]\n",
            " [6.9 3.1 5.1 2.3]\n",
            " [5.8 2.7 5.1 1.9]\n",
            " [6.8 3.2 5.9 2.3]\n",
            " [6.7 3.3 5.7 2.5]\n",
            " [6.7 3.  5.2 2.3]\n",
            " [6.3 2.5 5.  1.9]\n",
            " [6.5 3.  5.2 2. ]\n",
            " [6.2 3.4 5.4 2.3]\n",
            " [5.9 3.  5.1 1.8]]\n"
          ]
        }
      ],
      "source": [
        "print(iris_2d[~np.isnan(iris_2d).any(axis=1)])"
      ]
    },
    {
      "cell_type": "markdown",
      "id": "8cbd9fb3",
      "metadata": {
        "id": "8cbd9fb3"
      },
      "source": [
        "Find the correlation between first two columns."
      ]
    },
    {
      "cell_type": "code",
      "execution_count": null,
      "id": "e3ef5a77",
      "metadata": {
        "id": "e3ef5a77",
        "colab": {
          "base_uri": "https://localhost:8080/"
        },
        "outputId": "f2626187-d4eb-4767-8964-252331c4c7a0"
      },
      "outputs": [
        {
          "output_type": "stream",
          "name": "stdout",
          "text": [
            "[[ 1.         -0.10936925]\n",
            " [-0.10936925  1.        ]]\n"
          ]
        }
      ],
      "source": [
        "print(np.corrcoef(iris_2d[:,0],iris_2d[:,1] ))"
      ]
    },
    {
      "cell_type": "markdown",
      "id": "73965a4a",
      "metadata": {
        "id": "73965a4a"
      },
      "source": [
        "Find the mean,median and standard deviation of column 3."
      ]
    },
    {
      "cell_type": "code",
      "execution_count": null,
      "id": "ab824597",
      "metadata": {
        "id": "ab824597",
        "colab": {
          "base_uri": "https://localhost:8080/"
        },
        "outputId": "669ffac6-687d-450b-f820-0dff470d882d"
      },
      "outputs": [
        {
          "output_type": "stream",
          "name": "stdout",
          "text": [
            "3.758666666666666\n",
            "4.35\n",
            "1.7585291834055212\n"
          ]
        }
      ],
      "source": [
        "Mean=np.mean(iris_2d[:,2])\n",
        "Median=np.median(iris_2d[:,2])\n",
        "Std_dev=np.std(iris_2d[:,2])\n",
        "\n",
        "print(Mean)\n",
        "print(Median)\n",
        "print(Std_dev)\n"
      ]
    },
    {
      "cell_type": "markdown",
      "id": "14e0308e",
      "metadata": {
        "id": "14e0308e"
      },
      "source": [
        "Create a new column for volume in iris_2d, where volume is (pi x petallength x sepal_length^2)/3"
      ]
    },
    {
      "cell_type": "code",
      "execution_count": null,
      "id": "91c944c3",
      "metadata": {
        "id": "91c944c3",
        "colab": {
          "base_uri": "https://localhost:8080/"
        },
        "outputId": "5c736d3f-7baa-4adf-fff9-bed57a8ea91a"
      },
      "outputs": [
        {
          "output_type": "stream",
          "name": "stdout",
          "text": [
            "[[ 38.13265163]\n",
            " [ 35.20049849]\n",
            " [ 30.07237208]\n",
            " [ 33.23805027]\n",
            " [ 36.65191429]\n",
            " [ 51.91167701]\n",
            " [ 31.02218026]\n",
            " [ 39.26990817]\n",
            " [ 28.38324243]\n",
            " [ 37.71481981]\n",
            " [ 45.80442089]\n",
            " [ 38.60389053]\n",
            " [ 33.77840421]\n",
            " [ 21.29895099]\n",
            " [ 42.27327075]\n",
            " [ 51.03517266]\n",
            " [ 39.69716477]\n",
            " [ 38.13265163]\n",
            " [ 57.83986235]\n",
            " [ 40.85641246]\n",
            " [ 51.91167701]\n",
            " [ 40.85641246]\n",
            " [ 22.15870018]\n",
            " [ 46.30393412]\n",
            " [ 45.84212   ]\n",
            " [ 41.88790205]\n",
            " [ 41.88790205]\n",
            " [ 42.47433268]\n",
            " [ 39.6427105 ]\n",
            " [ 37.01215025]\n",
            " [ 38.60389053]\n",
            " [ 45.80442089]\n",
            " [ 42.47433268]\n",
            " [ 44.34881629]\n",
            " [ 37.71481981]\n",
            " [ 31.41592654]\n",
            " [ 41.1810437 ]\n",
            " [ 37.71481981]\n",
            " [ 26.35586797]\n",
            " [ 40.85641246]\n",
            " [ 34.03392041]\n",
            " [ 27.56747554]\n",
            " [ 26.35586797]\n",
            " [ 41.88790205]\n",
            " [ 51.75145578]\n",
            " [ 33.77840421]\n",
            " [ 43.58017329]\n",
            " [ 31.02218026]\n",
            " [ 44.12366882]\n",
            " [ 36.65191429]\n",
            " [241.16959604]\n",
            " [193.01945264]\n",
            " [244.29966952]\n",
            " [126.71090369]\n",
            " [203.52284408]\n",
            " [153.10551797]\n",
            " [195.34737279]\n",
            " [ 82.97260357]\n",
            " [209.83325652]\n",
            " [110.43326496]\n",
            " [ 91.62978573]\n",
            " [153.10237638]\n",
            " [150.79644737]\n",
            " [183.14123814]\n",
            " [118.22441474]\n",
            " [206.83827152]\n",
            " [147.78051842]\n",
            " [144.43367505]\n",
            " [181.14423241]\n",
            " [128.0764493 ]\n",
            " [174.97414443]\n",
            " [155.86488352]\n",
            " [203.66002695]\n",
            " [183.14123814]\n",
            " [184.4408103 ]\n",
            " [200.71007145]\n",
            " [232.42759088]\n",
            " [235.04349037]\n",
            " [169.64600329]\n",
            " [119.08206953]\n",
            " [120.37535851]\n",
            " [117.20758592]\n",
            " [137.38812993]\n",
            " [192.2654704 ]\n",
            " [137.41326267]\n",
            " [169.64600329]\n",
            " [220.94088094]\n",
            " [182.87839155]\n",
            " [134.64447234]\n",
            " [126.71090369]\n",
            " [139.38199406]\n",
            " [179.24461605]\n",
            " [140.91090249]\n",
            " [ 86.39379797]\n",
            " [137.92848386]\n",
            " [142.89848344]\n",
            " [142.89848344]\n",
            " [173.09337763]\n",
            " [ 81.71282492]\n",
            " [139.4961386 ]\n",
            " [249.37962484]\n",
            " [179.66140067]\n",
            " [311.45644848]\n",
            " [232.75431652]\n",
            " [256.61575992]\n",
            " [399.20846168]\n",
            " [113.14445942]\n",
            " [351.57249227]\n",
            " [272.65044882]\n",
            " [331.14899843]\n",
            " [225.64489234]\n",
            " [227.33402199]\n",
            " [266.32328122]\n",
            " [170.11724219]\n",
            " [179.66140067]\n",
            " [227.33402199]\n",
            " [243.34253096]\n",
            " [415.99189683]\n",
            " [428.40956539]\n",
            " [188.49555922]\n",
            " [284.18532985]\n",
            " [160.91656451]\n",
            " [415.99189683]\n",
            " [203.66002695]\n",
            " [267.94957902]\n",
            " [325.72032632]\n",
            " [193.22051457]\n",
            " [190.93448231]\n",
            " [240.2019855 ]\n",
            " [314.86298211]\n",
            " [349.80168121]\n",
            " [418.27583469]\n",
            " [240.2019855 ]\n",
            " [211.97268112]\n",
            " [218.21083693]\n",
            " [378.73889114]\n",
            " [232.75431652]\n",
            " [235.91266433]\n",
            " [180.95573685]\n",
            " [269.22820723]\n",
            " [263.24870921]\n",
            " [254.2710846 ]\n",
            " [179.66140067]\n",
            " [285.69224713]\n",
            " [267.94957902]\n",
            " [244.44522998]\n",
            " [207.81635403]\n",
            " [230.069302  ]\n",
            " [217.37307889]\n",
            " [185.91002846]]\n"
          ]
        }
      ],
      "source": [
        "sepal_length=iris_2d[:,0].astype('float')\n",
        "petal_length=iris_2d[:,2].astype('float')\n",
        "volume =(np.pi*petal_length*(sepal_length**2))/3\n",
        "#print(volume.shape)\n",
        "#print(volume)\n",
        "volume=volume[:,np.newaxis] # to increase dimension\n",
        "#print(volume.shape) \n",
        "print(volume)\n",
        "#Add the new column\n",
        "result=np.hstack([iris_2d,volume])\n",
        "#print(result)"
      ]
    },
    {
      "cell_type": "markdown",
      "id": "b7c1758f",
      "metadata": {
        "id": "b7c1758f"
      },
      "source": [
        "Run the following loaad command and solve the following questions"
      ]
    },
    {
      "cell_type": "code",
      "execution_count": null,
      "id": "b3fae8a7",
      "metadata": {
        "id": "b3fae8a7"
      },
      "outputs": [],
      "source": [
        "url = 'https://archive.ics.uci.edu/ml/machine-learning-databases/iris/iris.data'\n",
        "iris = np.genfromtxt(url, delimiter=',', dtype='object')\n",
        "names = ('sepallength', 'sepalwidth', 'petallength', 'petalwidth', 'species')"
      ]
    },
    {
      "cell_type": "markdown",
      "id": "4ee21e50",
      "metadata": {
        "id": "4ee21e50"
      },
      "source": [
        "Find the count of unique species."
      ]
    },
    {
      "cell_type": "code",
      "execution_count": null,
      "id": "730ad758",
      "metadata": {
        "id": "730ad758",
        "colab": {
          "base_uri": "https://localhost:8080/"
        },
        "outputId": "79f8edd8-2329-4185-8795-e37f29092e43"
      },
      "outputs": [
        {
          "output_type": "stream",
          "name": "stdout",
          "text": [
            "[b'Iris-setosa' b'Iris-versicolor' b'Iris-virginica']\n",
            "3\n"
          ]
        }
      ],
      "source": [
        "i = np.unique(iris[:,4])\n",
        "print(i)\n",
        "print(len(i))"
      ]
    },
    {
      "cell_type": "markdown",
      "id": "6d054b10",
      "metadata": {
        "id": "6d054b10"
      },
      "source": [
        "Bin the petal length (3rd) column of iris_2d to form a text array, such that if petal length is:\n",
        "Less than 3 –> ‘small’\n",
        "3-5 –> ‘medium’\n",
        "‘>=5 –> ‘large’"
      ]
    },
    {
      "cell_type": "code",
      "execution_count": null,
      "id": "5be1b28a",
      "metadata": {
        "scrolled": false,
        "id": "5be1b28a",
        "colab": {
          "base_uri": "https://localhost:8080/"
        },
        "outputId": "d3dd5283-c0bf-4cab-9cea-953779830793"
      },
      "outputs": [
        {
          "output_type": "stream",
          "name": "stdout",
          "text": [
            "['small' 'medium' 'small' 'medium' 'small' 'medium' 'small' 'medium'\n",
            " 'small' 'medium' 'small' 'medium' 'small' 'medium' 'small' 'medium'\n",
            " 'small' 'medium' 'small' 'medium' 'small' 'medium' 'small' 'medium'\n",
            " 'small' 'medium' 'small' 'medium' 'small' 'medium' 'small' 'medium'\n",
            " 'small' 'medium' 'small' 'medium' 'small' 'medium' 'small' 'medium'\n",
            " 'small' 'medium' 'small' 'medium' 'small' 'medium' 'small' 'medium'\n",
            " 'small' 'medium' 'small' 'medium' 'small' 'medium' 'small' 'medium'\n",
            " 'small' 'medium' 'small' 'medium' 'small' 'medium' 'small' 'medium'\n",
            " 'small' 'medium' 'small' 'medium' 'small' 'medium' 'small' 'medium'\n",
            " 'small' 'medium' 'small' 'medium' 'small' 'medium' 'small' 'medium'\n",
            " 'small' 'medium' 'small' 'medium' 'small' 'medium' 'small' 'medium'\n",
            " 'small' 'medium' 'small' 'medium' 'small' 'medium' 'small' 'medium'\n",
            " 'small' 'medium' 'small' 'medium' 'large' 'large' 'medium' 'large'\n",
            " 'large' 'large' 'large' 'large' 'large' 'large' 'large' 'large' 'large'\n",
            " 'large' 'large' 'large' 'large' 'large' 'large' 'large' 'large' 'large'\n",
            " 'large' 'large' 'large' 'large' 'large' 'large' 'large' 'large' 'large'\n",
            " 'large' 'large' 'large' 'large' 'large' 'large' 'large' 'large' 'large'\n",
            " 'large' 'large' 'large' 'large' 'large' 'large' 'large']\n"
          ]
        }
      ],
      "source": [
        "bin_array=[]\n",
        "for i in iris_2d[:,2]:\n",
        "  if float(i) < 3:\n",
        "    bin_array.append('small')\n",
        "  if float(i) <=3 and float(i)<5:\n",
        "    bin_array.append('medium')\n",
        "  if float(i)>=5:\n",
        "    bin_array.append('large')\n",
        "print(np.array(bin_array))\n",
        "\n",
        "\n"
      ]
    },
    {
      "cell_type": "markdown",
      "id": "87b2ddd8",
      "metadata": {
        "id": "87b2ddd8"
      },
      "source": [
        "Find the most frequent value of petal length (3rd column) in iris dataset"
      ]
    },
    {
      "cell_type": "code",
      "execution_count": null,
      "id": "bb79857d",
      "metadata": {
        "id": "bb79857d",
        "colab": {
          "base_uri": "https://localhost:8080/"
        },
        "outputId": "b65627b5-53c6-4a31-a3fe-298dc97d9b98"
      },
      "outputs": [
        {
          "output_type": "stream",
          "name": "stdout",
          "text": [
            "b'1.5'\n"
          ]
        }
      ],
      "source": [
        "vals, counts = np.unique(iris[:, 2], return_counts=True)\n",
        "print(vals[np.argmax(counts)])"
      ]
    }
  ],
  "metadata": {
    "kernelspec": {
      "display_name": "Python 3 (ipykernel)",
      "language": "python",
      "name": "python3"
    },
    "language_info": {
      "codemirror_mode": {
        "name": "ipython",
        "version": 3
      },
      "file_extension": ".py",
      "mimetype": "text/x-python",
      "name": "python",
      "nbconvert_exporter": "python",
      "pygments_lexer": "ipython3",
      "version": "3.8.10"
    },
    "colab": {
      "name": "200782_Assignment_1.ipynb",
      "provenance": []
    }
  },
  "nbformat": 4,
  "nbformat_minor": 5
}